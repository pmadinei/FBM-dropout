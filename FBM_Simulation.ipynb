{
  "cells": [
    {
      "cell_type": "markdown",
      "metadata": {
        "id": "TmoRmGGnhefV"
      },
      "source": [
        "# Setup"
      ]
    },
    {
      "cell_type": "code",
      "execution_count": 1,
      "metadata": {
        "colab": {
          "base_uri": "https://localhost:8080/"
        },
        "id": "KnzOWNKThtgd",
        "outputId": "7fdc5122-5730-4d7b-c4b2-97cc32acad02"
      },
      "outputs": [
        {
          "output_type": "stream",
          "name": "stdout",
          "text": [
            "Looking in indexes: https://pypi.org/simple, https://us-python.pkg.dev/colab-wheels/public/simple/\n",
            "Collecting stochastic\n",
            "  Downloading stochastic-0.7.0-py3-none-any.whl (48 kB)\n",
            "\u001b[2K     \u001b[90m━━━━━━━━━━━━━━━━━━━━━━━━━━━━━━━━━━━━━━━━\u001b[0m \u001b[32m48.1/48.1 KB\u001b[0m \u001b[31m2.1 MB/s\u001b[0m eta \u001b[36m0:00:00\u001b[0m\n",
            "\u001b[?25hRequirement already satisfied: numpy<2.0,>=1.19 in /usr/local/lib/python3.9/dist-packages (from stochastic) (1.22.4)\n",
            "Requirement already satisfied: scipy<2.0,>=1.8 in /usr/local/lib/python3.9/dist-packages (from stochastic) (1.10.1)\n",
            "Installing collected packages: stochastic\n",
            "Successfully installed stochastic-0.7.0\n"
          ]
        }
      ],
      "source": [
        "!pip install stochastic"
      ]
    },
    {
      "cell_type": "code",
      "execution_count": 2,
      "metadata": {
        "id": "D9qn_Yk0HCZW"
      },
      "outputs": [],
      "source": [
        "from stochastic.processes.continuous import FractionalBrownianMotion\n",
        "import numpy as np\n",
        "import matplotlib.pyplot as plt\n",
        "from matplotlib.patches import Rectangle\n",
        "from IPython.display import display, clear_output\n",
        "import torch\n",
        "import time"
      ]
    },
    {
      "cell_type": "markdown",
      "metadata": {
        "id": "JYmdWabdnNLg"
      },
      "source": [
        "# Simulate FBM"
      ]
    },
    {
      "cell_type": "code",
      "execution_count": 3,
      "metadata": {
        "id": "Bq5GSbLweO3J"
      },
      "outputs": [],
      "source": [
        "class FBM_Simulator():\n",
        "    \"\"\"\n",
        "    Simulates Fractional Brownian Motion (FBM) agents on a rectangular plane with equal\n",
        "    relative spacing between squares. The class determines the size of the squares based on\n",
        "    the values of 'plane_size', 'grid_shape', and 'neuron_spacing'. It also adds a border\n",
        "    around the rectangle plane with a width of square edge / 2. The class generates 'n_fibers'\n",
        "    number of random coordinates in the rectangle and simulates an FBM agent from each\n",
        "    coordinate with a Hurst exponent of 'hurst'. The time of each FBM path is set to 'T'.\n",
        "    The class uses standard FBM (σ = 1) and sets the time-distance between two consecutive\n",
        "    points in FBM paths to 'deltaT'. The length of the moving fiber, in points, is set to\n",
        "    'fiber_length' and the speed (offset) of fibers in each iteration, in points, is set to\n",
        "    'fiber_speed'. The factor that translates the FBM-path coordinates to the rectangle\n",
        "    coordinates (fbmToRec) is also set.\n",
        "\n",
        "    Methods:\n",
        "        __init__(self, plane_size: tuple, grid_shape: tuple, spacing: float, hurst: float, n_fibers: int, fiber_length: int, T: float, deltaT = None, fiber_speed = 1): Initializes the FBM_Simulator with the given parameters. Builds up the core FBM agent in X and Y dimensions.\n",
        "        forward(self): Returns input * mask * scale, where input is the current iteration of the simulation, mask is the generated mask for the current iteration, and scale is the inverse of the current dropout rate.\n",
        "        update_dropout_rate(self): Calculates and updates the current and cumulative dropout rates.\n",
        "        create_grid(self): Creates the rectangular grid with the specified attributes and returns a dictionary of tuples representing the grid.\n",
        "        make_mask(self): Generates a binary mask that selects neurons within the bounding box of each FBM agent.\n",
        "\n",
        "    Parameters:\n",
        "        plane_size (tuple): Tuple of two integers representing the size of the plane in X and Y dimensions.\n",
        "        grid_shape (tuple): Tuple of two integers representing the number of rows and columns in the rectangular grid.\n",
        "        spacing (float): Float representing the spacing between neurons.\n",
        "        hurst (float): Float representing the Hurst parameter used in the FBM agent.\n",
        "        n_fibers (int): Integer representing the number of FBM agents.\n",
        "        fiber_length (int): Integer representing the number of points in each FBM agent.\n",
        "        T (float): Float representing the time parameter for the FBM agent.\n",
        "        deltaT (float): Float representing the time step for the FBM agent. Default value is None.\n",
        "        fiber_speed (int): Integer >=1 representing the speed of the FBM agent. Default value is 1.\n",
        "        max_iters: (int): Integer representing the maximum number of forward calls during each epoch. Default value is 1000.\n",
        "        fiber_size: (float): Float representing the width of the fibers for visualization. Default value is 1.5.\n",
        "    \"\"\"\n",
        "\n",
        "    def __init__(self, plane_size: tuple, grid_shape: tuple, spacing: float, hurst: float, \n",
        "                 n_fibers: int, fiber_length: int, T: float, deltaT = None, fiber_speed = 1,\n",
        "                 max_iters: int = 1000, fiber_size: float = 1.5):\n",
        "        \"\"\"\n",
        "        Initializes the FBM_Simulator with the given parameters.\n",
        "        Build up the core Fractional Brownian Motion agent in X and Y dimentations\n",
        "        \"\"\"\n",
        "\n",
        "        # Getting started\n",
        "        self.plane_size = plane_size\n",
        "        self.grid_shape = grid_shape\n",
        "        self.neuron_spacing = spacing\n",
        "        self.hurst = hurst\n",
        "        self.n_fibers = n_fibers\n",
        "        self.fiber_length = fiber_length\n",
        "        self.T = T\n",
        "        self.deltaT = deltaT\n",
        "        self.grid = None\n",
        "        self.fbm_paths = None\n",
        "        self.squares_touched = None\n",
        "\n",
        "        # Making one long fiber\n",
        "        self.agents_x = []\n",
        "        self.agents_y = []\n",
        "        self.colors = []\n",
        "\n",
        "        # keeping track of cummulative dropout rate and iters\n",
        "        self.current_iter = 0\n",
        "        self.total_iter = 0\n",
        "        self.sum_dropout_rate = 0.0\n",
        "        self.cum_dropout_rate = 0.0\n",
        "\n",
        "        ## Maximum number of iterations during each epoch\n",
        "        self.max_iters = max_iters\n",
        "\n",
        "        self.fiber_size = fiber_size\n",
        "        self.fiber_speed = fiber_speed\n",
        "\n",
        "        # initialize (x, y) of FBM dropout agents for max iterations and their color\n",
        "        for _ in range(self.n_fibers):\n",
        "            # random starting point (x, y)\n",
        "            x_starting_pt = int(torch.rand((1,)).item() * self.plane_size[0])\n",
        "            y_starting_pt = int(torch.rand((1,)).item() * self.plane_size[1])\n",
        "            # get x FBM sequence with periodic boundary at [0, 1]\n",
        "            fbm_x = FractionalBrownianMotion(hurst, t=self.T)\n",
        "            self.agents_x.append((fbm_x.sample(self.max_iters * self.fiber_length) + x_starting_pt) % plane_size[0])\n",
        "            # get y FBM sequence with periodic boundary at [0, 1]\n",
        "            fbm_y = FractionalBrownianMotion(hurst, t=self.T)\n",
        "            self.agents_y.append((fbm_y.sample(self.max_iters * self.fiber_length) + y_starting_pt) % plane_size[1])\n",
        "            # get random (r, g, b) color\n",
        "            color = torch.rand((3,))\n",
        "            color = (color[0].item(), color[1].item(), color[2].item())\n",
        "            self.colors.append(color)\n",
        "\n",
        "        if self.n_fibers == 1:\n",
        "            self.colors[0] = 'blue'\n",
        "\n",
        "        ## n_fibers = len(self.agents_x) = len(self.agents.y) = len(colors)\n",
        "        \n",
        "        # initialize the grid of neurons\n",
        "        self.grid = self.create_grid()\n",
        "\n",
        "    def forward(self):\n",
        "        \"\"\"\n",
        "        Advances the state of the simulation by one iteration. Moves each fiber\n",
        "        along its path according to the set speed and updates the list of neurons\n",
        "        touched by each fiber.\n",
        "        \"\"\"\n",
        "        \n",
        "        # get new mask\n",
        "        self.mask = self.make_mask()\n",
        "\n",
        "        # update iters\n",
        "        self.current_iter += 1\n",
        "        self.total_iter += 1\n",
        "        # update dropout rates\n",
        "        self.update_dropout_rate()\n",
        "\n",
        "        # return input * mask * scale        \n",
        "        # return torch.mul(input, self.mask) * (1 / (1 - self.now_dropout_rate))\n",
        "\n",
        "    def update_dropout_rate(self):\n",
        "        \"\"\"\n",
        "        Updates the dropout rate of each neuron based on the mask of touched neurons.\n",
        "        The dropout rate of each neuron is calculated as the fraction of total iterations\n",
        "        in which the neuron was touched by any fiber. The dropout rates are averaged\n",
        "        over all iterations so far and stored in 'cum_dropout_rate'. The total number of\n",
        "        iterations so far is stored in 'total_iter'. Also, the current iteration counter\n",
        "        'current_iter' is reset to 0.\n",
        "        \n",
        "        Parameters:\n",
        "            mask (torch.Tensor): A mask of zeros and ones that covers the grid of neurons.\n",
        "        \"\"\"\n",
        "\n",
        "        self.current_dropout_rate = self.get_dropout_rate()\n",
        "        self.sum_dropout_rate += self.current_dropout_rate\n",
        "        self.cum_dropout_rate = self.sum_dropout_rate / self.total_iter\n",
        "\n",
        "    def get_dropout_rate(self):\n",
        "        \"\"\"\n",
        "        The dropout rate of each neuron is calculated as the fraction of total iterations\n",
        "        in which the neuron was touched by any fiber.\n",
        "\n",
        "        Returns:\n",
        "        -------\n",
        "        A float representing the current dropout rate\n",
        "        \"\"\"\n",
        "\n",
        "        return (1 - (torch.sum(self.mask) / (self.n_col * self.n_row))).item()\n",
        "\n",
        "    def create_grid(self):\n",
        "        \"\"\"\n",
        "        Create the rectangular grid with the specified attributes\n",
        "        \n",
        "        Returns:\n",
        "        -------\n",
        "        A dict of tuples representing the grid\n",
        "        \"\"\"\n",
        "        # Determine the size of each square\n",
        "        self.n_row = self.grid_shape[0]\n",
        "        self.n_col = self.grid_shape[1]\n",
        "\n",
        "        size_row = self.plane_size[0] / self.n_row\n",
        "        size_col = self.plane_size[1] / self.n_col\n",
        "\n",
        "        gap_y = self.neuron_spacing / 2\n",
        "        gap_x = self.neuron_spacing / 2\n",
        "\n",
        "        grid = {}\n",
        "        for x in range(self.n_col):\n",
        "            for y in range(self.n_row):\n",
        "                x_low = (x * size_col) + (gap_y * size_col / (1 + self.neuron_spacing))\n",
        "                y_low = (y * size_row) + (gap_x * size_row / (1 + self.neuron_spacing))\n",
        "                x_high = x_low + size_col / (1 + self.neuron_spacing)\n",
        "                y_high = y_low + size_row / (1 + self.neuron_spacing)\n",
        "                grid[(x,y)] = ((x_low, x_high), (y_low, y_high))\n",
        "\n",
        "        self.grid = grid\n",
        "        \n",
        "        return grid\n",
        "\n",
        "    def make_mask(self):\n",
        "        \"\"\"\n",
        "        Creates a mask of zeros and ones that covers the grid of neurons, where\n",
        "        ones indicate the neurons that have been touched by any fiber in the current\n",
        "        iteration. The mask is used to update the dropout rate of each neuron.\n",
        "        \n",
        "        Parameters:\n",
        "            touched_neurons (list): A list of neuron positions touched by each fiber.\n",
        "            \n",
        "        Returns:\n",
        "            torch.Tensor: A mask of zeros and ones that covers the grid of neurons.\n",
        "        \"\"\"\n",
        "        \n",
        "        def is_in(agent_x, agent_y, g):\n",
        "            # bounding box for a neuron\n",
        "            ((x_low, x_high), (y_low, y_high)) = g\n",
        "            # check if (x, y) is within the bounding box \n",
        "            for x,y  in zip(agent_x, agent_y):\n",
        "                if x_low <= x and x <= x_high and y_low <= y and y <= y_high:\n",
        "                    return True\n",
        "            return False\n",
        "\n",
        "        # initialize a mask\n",
        "        make_mask = torch.ones(self.grid_shape)\n",
        "        t = self.current_iter * self.fiber_length\n",
        "\n",
        "        # get (x, y) for current iteration\n",
        "        self.curr_agents_x = [agent_x[t+self.fiber_speed:t+ np.square(self.fiber_length)+self.fiber_speed] for agent_x in self.agents_x]\n",
        "        self.curr_agents_y = [agent_y[t+self.fiber_speed:t+ np.square(self.fiber_length)+self.fiber_speed] for agent_y in self.agents_y]\n",
        "        # print(len(self.curr_agents_x[1]))\n",
        "        # set make_mask[(i,j)] to 0 if (x,y) is within neuron (i,j)\n",
        "        for i in range(self.n_col):\n",
        "            for j in range(self.n_row):\n",
        "                for x, y in zip(self.curr_agents_x, self.curr_agents_y):\n",
        "                    if is_in(x, y, self.grid[(i,j)]):\n",
        "                        make_mask[(j,i)] = 0\n",
        "\n",
        "        \n",
        "        self.make_mask_ = make_mask\n",
        "        self.t = t\n",
        "\n",
        "        # rotate 90 degrees\n",
        "        make_mask = torch.rot90(make_mask)\n",
        "        # if self.is_conv:\n",
        "        #     return make_mask\n",
        "        # flatten for linear layer\n",
        "        return make_mask.reshape(-1)\n",
        "\n",
        "    def viz_grid(self, title=None, dpi=300, show_history=False):\n",
        "        \"\"\"\n",
        "        Visualize the grid using matplotlib\n",
        "    \n",
        "        Parameters:\n",
        "        ----------\n",
        "        grid : list of lists\n",
        "            A rectangular grid of squares represented by a list of lists\n",
        "    \n",
        "        Returns:\n",
        "        -------\n",
        "        None\n",
        "        \"\"\"\n",
        "\n",
        "        if show_history:\n",
        "            # get (x, y) for all previous iterations\n",
        "            prev_agent_x = [agent_x[:self.t] for agent_x in self.agents_x]\n",
        "            prev_agent_y = [agent_y[:self.t] for agent_y in self.agents_y]\n",
        "        # print the current grid status\n",
        "        _, ax = plt.subplots(tight_layout=True, facecolor=(1, 1, 1))\n",
        "        # print the agents\n",
        "\n",
        "        for i in range(self.n_fibers):\n",
        "            if show_history:\n",
        "                ax.scatter(prev_agent_x[i], prev_agent_y[i], s=3, color=self.colors[i], alpha=0.3, linewidths=self.fiber_size)\n",
        "            ax.scatter(self.curr_agents_x[i], self.curr_agents_y[i], s=10, color=self.colors[i], linewidths=self.fiber_size)\n",
        "        # print the neurons\n",
        "        for x in range(self.n_col):\n",
        "            for y in range(self.n_row):\n",
        "                ((x_low, x_high), (y_low, y_high)) = self.grid[(x,y)]\n",
        "                if self.make_mask_[(y,x)]:\n",
        "                    # set to black if not dropped out\n",
        "                    facecolor = 'black'\n",
        "                else:\n",
        "                    # set to red if dropped out\n",
        "                    facecolor = 'red'\n",
        "                ax.add_patch(Rectangle((x_low, y_low), x_high - x_low, y_high - y_low,\n",
        "                                        facecolor=facecolor, zorder=0))\n",
        "        ax.set_aspect('equal')\n",
        "        ax.set_xlim(0, self.plane_size[1])\n",
        "        ax.set_ylim(0, self.plane_size[0])\n",
        "        #ax.set_title('Dropout rate: {:2f}'.format(self.now_dropout_rate))\n",
        "        if title:\n",
        "            plt.savefig(title, dpi=dpi, bbox_inches='tight')\n",
        "\n",
        "        plt.tick_params(left = False, right = False , labelleft = False ,\n",
        "                        labelbottom = False, bottom = False)\n",
        "        \n",
        "        clear_output(wait = True)\n",
        "        plt.pause(.2)"
      ]
    },
    {
      "cell_type": "code",
      "execution_count": 20,
      "metadata": {
        "colab": {
          "base_uri": "https://localhost:8080/",
          "height": 297
        },
        "id": "RSVYtRWUn76L",
        "outputId": "246db65f-05e6-43c3-927f-cb7140c1971c"
      },
      "outputs": [
        {
          "output_type": "display_data",
          "data": {
            "text/plain": [
              "<Figure size 432x288 with 1 Axes>"
            ],
            "image/png": "[encoded data removed]"
          },
          "metadata": {}
        }
      ],
      "source": [
        "rg = FBM_Simulator(plane_size= (70, 100), grid_shape= (7, 10), spacing= .3, hurst= .95, n_fibers= 5, fiber_length= 200, T= 100, fiber_size=.5, fiber_speed=1000)\n",
        "\n",
        "for i in range(1, 3):\n",
        "    rg.forward()\n",
        "    rg.viz_grid(show_history=False)"
      ]
    },
    {
      "cell_type": "code",
      "execution_count": null,
      "metadata": {
        "id": "TEncYmA-o32v",
        "colab": {
          "base_uri": "https://localhost:8080/"
        },
        "outputId": "5ac6163c-13c5-46ec-e703-99708f5ff484"
      },
      "outputs": [
        {
          "output_type": "stream",
          "name": "stderr",
          "text": [
            "/usr/local/lib/python3.8/dist-packages/stochastic/processes/noise/fractional_gaussian_noise.py:18: RuntimeWarning: invalid value encountered in sqrt\n",
            "  return np.fft.irfft(_fgn_autocovariance(hurst, n))[:n] ** (1 / 2)\n"
          ]
        }
      ],
      "source": [
        "agents_x = []\n",
        "fbm_x = FractionalBrownianMotion(.999, t=100000/10)\n",
        "agents_x.append((fbm_x.sample(100000 * 100) + 3) % 10)"
      ]
    },
    {
      "cell_type": "code",
      "execution_count": null,
      "metadata": {
        "id": "p4qRpIkkxkbc",
        "colab": {
          "base_uri": "https://localhost:8080/"
        },
        "outputId": "330c5c9a-95a3-4ca4-fcd8-658a22bd9938"
      },
      "outputs": [
        {
          "output_type": "execute_result",
          "data": {
            "text/plain": [
              "[array([ 3., nan, nan, ..., nan, nan, nan])]"
            ]
          },
          "metadata": {},
          "execution_count": 4
        }
      ],
      "source": [
        "agents_x"
      ]
    },
    {
      "cell_type": "code",
      "source": [],
      "metadata": {
        "id": "xXbWen70zMtu"
      },
      "execution_count": null,
      "outputs": []
    }
  ],
  "metadata": {
    "colab": {
      "provenance": []
    },
    "kernelspec": {
      "display_name": "Python 3",
      "name": "python3"
    },
    "language_info": {
      "name": "python"
    }
  },
  "nbformat": 4,
  "nbformat_minor": 0
}